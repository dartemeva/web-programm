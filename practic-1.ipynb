{
 "cells": [
  {
   "cell_type": "markdown",
   "metadata": {},
   "source": [
    "# Практическая работа №1"
   ]
  },
  {
   "cell_type": "markdown",
   "metadata": {},
   "source": [
    "# Работа с протоколом HTTP через telnet"
   ]
  },
  {
   "cell_type": "markdown",
   "metadata": {},
   "source": [
    "## Задание 1"
   ]
  },
  {
   "cell_type": "markdown",
   "metadata": {},
   "source": [
    "В первом задании я создал два файла которые имеют референсные ссылки друг на друга. Структура файла выглядит следующим образом:\n",
    "```\n",
    "myproject/\n",
    "├── about\n",
    "│   └── aboutme.html\n",
    "└── index.html\n",
    "```"
   ]
  },
  {
   "cell_type": "markdown",
   "metadata": {},
   "source": [
    "<!DOCTYPE html>\n",
    "    <html>\n",
    "       <head>\n",
    "            <title>index.html</title>\n",
    "       </head>\n",
    "       <body>\n",
    "          <p>\n",
    "             <b>\n",
    "                <a href=\\\"C:\\Users\\sheol\\Desktop\\myproject\\about.html\\\">Прямая ссылка на aboutme.html</a>\n",
    "                <a href=\\\"C:\\Users\\sheol\\Desktop\\myproject\\about.html\\\">Абсолютное обращение aboutme.html </a>\n",
    "             </b>\n",
    "          </p>\n",
    "       </body>\n",
    "    </html>"
   ]
  },
  {
   "cell_type": "markdown",
   "metadata": {},
   "source": [
    "## Задание 2"
   ]
  },
  {
   "cell_type": "markdown",
   "metadata": {},
   "source": [
    "Подключиться по telnet к http://wikipedia.org и отправить запрос:"
   ]
  },
  {
   "cell_type": "markdown",
   "metadata": {},
   "source": [
    "GET /wiki/ru.wikipedia.org HTTP/1.1 Host: ru.wikipedia.org User-Agent: Mozilla/5.0 (X11; U; Linux i686; ru; rv:1.9b5) Gecko/2008050509 Firefox/3.0b5 \\n: Accept: text/html \\n: Connection: close"
   ]
  },
  {
   "cell_type": "markdown",
   "metadata": {},
   "source": [
    "## Ответ"
   ]
  },
  {
   "cell_type": "markdown",
   "metadata": {},
   "source": [
    "HTTP/1.1 301 TLS Redirect Date: Tue, 22 Jan 2019 17:23:14 GMT Server: Varnish X-Varnish: 500478617 X-Cache: cp3032 int X-Cache-Status: int-front Server-Timing: cache;desc=\"int-front\" Set-Cookie: WMF-Last-Access=22-Jan-2019;Path=/;HttpOnly;secure;Expires=Sat, 23 Feb 2019 12:00:00 GMT Set-Cookie: WMF-Last-Access-Global=22-Jan-2019;Path=/;Domain=.wikipedia.org;HttpOnly;secure;Expires=Sat, 23 Feb 2019 12:00:00 GMT X-Client-IP: 82.193.155.245 Location: https://ru.wikipedia.org/wiki/ru.wikipedia.org Content-Length: 0 Connection: close"
   ]
  },
  {
   "cell_type": "markdown",
   "metadata": {},
   "source": [
    "## Анализ"
   ]
  },
  {
   "cell_type": "markdown",
   "metadata": {},
   "source": [
    "Код 301 TLS Redirect означает, что запрошенный ресурс был перемещен в другое место. \n",
    "Новое расположение находится в строке Location. \n",
    "На второй строчке находится дата(Date) запроса. \n",
    "X-Client-IP – IP-адрес клиента. \n",
    "Поскольку на наш запрос ответа положительного не поступило, то и указанная длина ответа в строке Content-Length равна 0. \n",
    "В последней строке говорится о том, что соединение закрыто."
   ]
  },
  {
   "cell_type": "markdown",
   "metadata": {},
   "source": [
    "## Задание 3"
   ]
  },
  {
   "cell_type": "markdown",
   "metadata": {},
   "source": [
    "Необходимо отправить запросы на http://httpbin.org, проанализировать ответ и код состояния."
   ]
  },
  {
   "cell_type": "markdown",
   "metadata": {},
   "source": [
    "## /ip"
   ]
  },
  {
   "cell_type": "markdown",
   "metadata": {},
   "source": [
    "GET /ip HTTP/1.1\n",
    "Host: httpbin.org\n",
    "Accept: */*"
   ]
  },
  {
   "cell_type": "markdown",
   "metadata": {},
   "source": [
    "## Ответ"
   ]
  },
  {
   "cell_type": "markdown",
   "metadata": {},
   "source": [
    "HTTP/1.1 200 OK\n",
    "Connection: keep-alive\n",
    "Server: gunicorn/19.9.0\n",
    "Date: Tue, 22 Jan 2019 17:27:51 GMT\n",
    "Content-Type: application/json\n",
    "Content-Length: 33\n",
    "Access-Control-Allow-Origin: *\n",
    "Access-Control-Allow-Credentials: true\n",
    "Via: 1.1 vegur\n",
    "\n",
    "{\n",
    "   \"origin\": \"82.193.155.245\"\n",
    "                             }"
   ]
  },
  {
   "cell_type": "markdown",
   "metadata": {},
   "source": [
    "## Анализ"
   ]
  },
  {
   "cell_type": "markdown",
   "metadata": {},
   "source": [
    "1. 200 ok - успешный запрос, сервер отправляет ответ в теле сообщения.\n",
    "2. Поддерживается постоянное соединение (keep-alive)\n",
    "3. Название сервера и его версия (Server: gunicorn/19.9.0)\n",
    "4. Указывает дату генерации отклика (Date: Tue, 22 Jan 2019 17:27:51 GMT)\n",
    "5. Формат ответа-JSON (пара:ключ-origin и значение-ip-адрес клиента)"
   ]
  },
  {
   "cell_type": "markdown",
   "metadata": {},
   "source": [
    "## /get"
   ]
  },
  {
   "cell_type": "markdown",
   "metadata": {},
   "source": [
    "GET /get?foo=bar&1=2&2/0&error=True HTTP/1.1\n",
    "Host: httpbin.org\n",
    "Accept: */*"
   ]
  },
  {
   "cell_type": "markdown",
   "metadata": {},
   "source": [
    "## Ответ"
   ]
  },
  {
   "cell_type": "markdown",
   "metadata": {},
   "source": [
    "HTTP/1.1 200 OK\n",
    "Connection: keep-alive\n",
    "Server: gunicorn/19.9.0\n",
    "Date: Tue, 22 Jan 2019 17:29:22 GMT\n",
    "Content-Type: application/json\n",
    "Content-Length: 283\n",
    "Access-Control-Allow-Origin: *\n",
    "Access-Control-Allow-Credentials: true\n",
    "Via: 1.1 vegur\n",
    "\n",
    "{\n",
    "   \"args\": {\n",
    "                \"1\": \"2\",\n",
    "                              \"2/0\": \"\",\n",
    "                                             \"error\": \"True\",\n",
    "                                                                  \"foo\": \"bar\"\n",
    "                                                                                },\n",
    "                                                                                     \"headers\": {\n",
    "                                                                                                     \"Accept\": \"*/*\",\n",
    "                                                                                                                          \"Connection\": \"close\",\n",
    "                             \"Host\": \"httpbin.org\"\n",
    "                                                    },\n",
    "                                                         \"origin\": \"82.193.155.245\",\n",
    "                                                                                       \"url\": \"http://httpbin.org/get?foo=bar&1=2&2%2F0&error=True\"\n",
    "                           }"
   ]
  },
  {
   "cell_type": "markdown",
   "metadata": {},
   "source": [
    "## Анализ"
   ]
  },
  {
   "cell_type": "markdown",
   "metadata": {},
   "source": [
    "1. 200 ok - успешный запрос, сервер отправляет ответ в теле сообщения.\n",
    "2. Поддерживается постоянное соединение (keep-alive)\n",
    "3. Название сервера и его версия (Server: gunicorn/19.9.0)\n",
    "4.  Указывает дату генерации отклика (Tue, 22 Jan 2019 17:29:22 GMT)\n",
    "5. Формат JSON (в ответе передались переприсвоенные значения аргументов,заголовки,ip-клиента и адрес страницы)"
   ]
  },
  {
   "cell_type": "markdown",
   "metadata": {},
   "source": [
    "## /post"
   ]
  },
  {
   "cell_type": "markdown",
   "metadata": {},
   "source": [
    "POST /post HTTP/1.1\n",
    "Host: httpbin.org\n",
    "Accept: */*\n",
    "Content-Length: 29\n",
    "Content-Type: application/x-www-form-urlencoded foo=bar&1=2&2%2F0=&error=True"
   ]
  },
  {
   "cell_type": "markdown",
   "metadata": {},
   "source": [
    "## Ответ"
   ]
  },
  {
   "cell_type": "markdown",
   "metadata": {},
   "source": [
    "HTTP/1.1 200 OK\n",
    "Connection: keep-alive\n",
    "Server: gunicorn/19.9.0\n",
    "Date: Wed, 23 Jan 2019 10:28:08 GMT\n",
    "Content-Type: application/json\n",
    "Content-Length: 434\n",
    "Access-Control-Allow-Origin: *\n",
    "Access-Control-Allow-Credentials: true\n",
    "Via: 1.1 vegur\n",
    "\n",
    "{\n",
    "   \"args\": {},\n",
    "                 \"data\": \"\",\n",
    "                               \"files\": {},\n",
    "                                              \"form\": {\n",
    "                                                           \"\\r\\n\\r\\n\\r\\n\\r\\n\\r\\n\\r\\n\\r\\n\\r\\n\\r\\n\\r\\n\\r\\n\\r\\n\\r\\n\\r\\n\\r\":\n",
    " \"\"\n",
    "     },\n",
    "          \"headers\": {\n",
    "                          \"Accept\": \"*/*\",\n",
    "                                               \"Connection\": \"close\",\n",
    "                                                                          \"Content-Length\": \"29\",\n",
    "                                                                                                      \"Content-Type\": \"a\n",
    "pplication/x-www-form-urlencoded foo=bar&1=2&2%2F0=&error=True\",\n",
    "                                                                     \"Host\": \"httpbin.org\"\n",
    "                                                                                            },\n",
    "                                                                                                 \"json\": null,\n",
    "                                                                                                                 \"origin\n",
    "\": \"82.193.155.245\",\n",
    "                       \"url\": \"http://httpbin.org/post\"\n",
    "                                                       }"
   ]
  },
  {
   "cell_type": "markdown",
   "metadata": {},
   "source": [
    "## Анализ"
   ]
  },
  {
   "cell_type": "markdown",
   "metadata": {},
   "source": [
    "1. 200 ok - успешный запрос, сервер отправляет ответ в теле сообщения.\n",
    "2. Поддерживается постоянное соединение (keep-alive)\n",
    "3. Название сервера и его версия (Server: gunicorn/19.9.0)\n",
    "4. Указывает дату генерации отклика (Date: Tue, 22 Jan 2019 17:30:59 GMT)\n",
    "5. Формат ответа-JSON(пары:ключ-значение)"
   ]
  },
  {
   "cell_type": "markdown",
   "metadata": {},
   "source": [
    "## /cookies/set"
   ]
  },
  {
   "cell_type": "markdown",
   "metadata": {},
   "source": [
    "GET /cookies/set?country=Ru HTTP/1.1\n",
    "Host: httpbin.org\n",
    "Accept: */*"
   ]
  },
  {
   "cell_type": "markdown",
   "metadata": {},
   "source": [
    "## Ответ"
   ]
  },
  {
   "cell_type": "markdown",
   "metadata": {},
   "source": [
    "HTTP/1.1 302 FOUND\n",
    "Connection: keep-alive\n",
    "Server: gunicorn/19.9.0\n",
    "Date: Tue, 22 Jan 2019 17:32:23 GMT\n",
    "Content-Type: text/html; charset=utf-8\n",
    "Content-Length: 223\n",
    "Location: /cookies\n",
    "Set-Cookie: country=Ru; Path=/\n",
    "Access-Control-Allow-Origin: *\n",
    "Access-Control-Allow-Credentials: true\n",
    "Via: 1.1 vegur\n",
    "\n",
    "<!DOCTYPE HTML PUBLIC \"-//W3C//DTD HTML 3.2 Final//EN\">\n",
    "                                                       <title>Redirecting...</title>\n",
    "                                                                                    <h1>Redirecting...</h1>\n",
    "                                                                                                           <p>You should be redirected automatically to target URL: <a href=\"/cookies\">/cookies</a>.  If not click the link.\n"
   ]
  },
  {
   "cell_type": "markdown",
   "metadata": {},
   "source": [
    "## Анализ"
   ]
  },
  {
   "cell_type": "markdown",
   "metadata": {},
   "source": [
    "1. 302 FOUND - запрошенный документ временно доступен по другому URI, указанному в заголовке в поле Location (Location: /cookies)\n",
    "2. Поддерживается постоянное соединение (keep-alive)\n",
    "3. Название сервера и его версия (Server: gunicorn/19.9.0)\n",
    "4. Указывает дату генерации отклика (Date: Tue, 22 Jan 2019 17:32:23 GMT)\n",
    "5. Задает cookie, которое будет передано клиенту вместе с другими HTTP заголовками (Set-Cookie: country=Ru; Path=/)\n",
    "6. Сервер разрешает кросс-доменный запрос с этого домена (Access-Control-Allow-Origin: *)"
   ]
  },
  {
   "cell_type": "markdown",
   "metadata": {},
   "source": [
    "## /cookies"
   ]
  },
  {
   "cell_type": "markdown",
   "metadata": {},
   "source": [
    "GET /cookies HTTP/1.1\n",
    "Host: httpbin.org\n",
    "Accept: */*"
   ]
  },
  {
   "cell_type": "markdown",
   "metadata": {},
   "source": [
    "## Ответ"
   ]
  },
  {
   "cell_type": "markdown",
   "metadata": {},
   "source": [
    "HTTP/1.1 200 OK\n",
    "Connection: keep-alive\n",
    "Server: gunicorn/19.9.0\n",
    "Date: Tue, 22 Jan 2019 17:34:33 GMT\n",
    "Content-Type: application/json\n",
    "Content-Length: 20\n",
    "Access-Control-Allow-Origin: *\n",
    "Access-Control-Allow-Credentials: true\n",
    "Via: 1.1 vegur\n",
    "\n",
    "{\n",
    "   \"cookies\": {}\n",
    "                }\n"
   ]
  },
  {
   "cell_type": "markdown",
   "metadata": {},
   "source": [
    "## Анализ"
   ]
  },
  {
   "cell_type": "markdown",
   "metadata": {},
   "source": [
    "1. 200 ok - успешный запрос, сервер отправляет ответ в теле сообщения.\n",
    "2. Поддерживается постоянное соединение (keep-alive)\n",
    "3. Название сервера и его версия (Server: gunicorn/19.9.0)\n",
    "4. Указывает дату генерации отклика (Date: Tue, 22 Jan 2019 17:34:33 GMT)\n",
    "5. Записей в cookies нет"
   ]
  },
  {
   "cell_type": "markdown",
   "metadata": {},
   "source": [
    "## /redirect"
   ]
  },
  {
   "cell_type": "markdown",
   "metadata": {},
   "source": [
    "GET /redirect/4 HTTP/1.1\n",
    "Host: httpbin.org\n",
    "Accept: */*"
   ]
  },
  {
   "cell_type": "markdown",
   "metadata": {},
   "source": [
    "## Ответ"
   ]
  },
  {
   "cell_type": "markdown",
   "metadata": {},
   "source": [
    "HTTP/1.1 302 FOUND\n",
    "Connection: keep-alive\n",
    "Server: gunicorn/19.9.0\n",
    "Date: Tue, 22 Jan 2019 17:36:17 GMT\n",
    "Content-Type: text/html; charset=utf-8\n",
    "Content-Length: 247\n",
    "Location: /relative-redirect/3\n",
    "Access-Control-Allow-Origin: *\n",
    "Access-Control-Allow-Credentials: true\n",
    "Via: 1.1 vegur\n",
    "\n",
    "<!DOCTYPE HTML PUBLIC \"-//W3C//DTD HTML 3.2 Final//EN\">\n",
    "                                                       <title>Redirecting...</title>\n",
    "                                                                                    <h1>Redirecting...</h1>\n",
    "                                                                                                           <p>You should be redirected automatically to target URL: <a href=\"/relative-redirect/3\">/relative-redirect/3</a>.  If not click the link.\n"
   ]
  },
  {
   "cell_type": "markdown",
   "metadata": {},
   "source": [
    "## Анализ"
   ]
  },
  {
   "cell_type": "markdown",
   "metadata": {},
   "source": [
    "1. 302 FOUND - запрошенный документ временно доступен по другому URI, указанному в заголовке в поле Location (Location: /relative-redirect/3)\n",
    "2. Поддерживается постоянное соединение (keep-alive)\n",
    "3. Название сервера и его версия (Server: gunicorn/19.9.0)\n",
    "4. Указывает дату генерации отклика (Date: Tue, 22 Jan 2019 17:36:17 GMT)"
   ]
  },
  {
   "cell_type": "markdown",
   "metadata": {},
   "source": [
    "## Задание 4"
   ]
  },
  {
   "cell_type": "markdown",
   "metadata": {},
   "source": [
    "Создадим HTML-форму с полями firstname, lastname, group, message(textarea) и myimg(file) с action=\"http://httpbin.org/post\" method=\"POST\" enctype=\"multipart/form-data\"."
   ]
  },
  {
   "cell_type": "markdown",
   "metadata": {},
   "source": [
    "<!DOCTYPE html>"
   ]
  },
  {
   "cell_type": "markdown",
   "metadata": {},
   "source": [
    "Отправим какой-нибудь запрос по протоколу HTTP на сайт httpbin.org. Например, номер группы."
   ]
  },
  {
   "cell_type": "markdown",
   "metadata": {},
   "source": [
    "{ \"args\": {}, \"data\": \"\", \"files\": {}, \"form\": { \"firstname\": \"\", \"group\": \"135\", \"lastname\": \"\", \"myimg\": \"\" }, \"headers\": { \"Accept\": \"text/html,application/xhtml+xml,application/xml;q=0.9,image/webp,image/apng,/;q=0.8\", \"Accept-Encoding\": \"gzip, deflate\", \"Accept-Language\": \"ru,en;q=0.9\", \"Cache-Control\": \"max-age=0\", \"Connection\": \"close\", \"Content-Length\": \"475\", \"Content-Type\": \"multipart/form-data; boundary=----WebKitFormBoundarytnBMPSFYgzBoMQTo\", \"Host\": \"httpbin.org\", \"Origin\": \"null\", \"Upgrade-Insecure-Requests\": \"1\", \"User-Agent\": \"Mozilla/5.0 (Windows NT 10.0; WOW64) AppleWebKit/537.36 (KHTML, like Gecko) Chrome/67.0.3396.103 YaBrowser/18.7.1.920 Yowser/2.5 Safari/537.36\" }, \"json\": null, \"origin\": \"212.193.94.40\", \"url\": \"http://httpbin.org/post\" }"
   ]
  },
  {
   "cell_type": "markdown",
   "metadata": {},
   "source": [
    "Получаем ответ с сайта в формате json, в котором мы видим поля формы, созданные мной в ней. Как мы видим, введенная информация тоже присутствует."
   ]
  }
 ],
 "metadata": {
  "kernelspec": {
   "display_name": "Python 3",
   "language": "python",
   "name": "python3"
  },
  "language_info": {
   "codemirror_mode": {
    "name": "ipython",
    "version": 3
   },
   "file_extension": ".py",
   "mimetype": "text/x-python",
   "name": "python",
   "nbconvert_exporter": "python",
   "pygments_lexer": "ipython3",
   "version": "3.6.5"
  }
 },
 "nbformat": 4,
 "nbformat_minor": 2
}
