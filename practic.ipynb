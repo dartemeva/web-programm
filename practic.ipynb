{
 "cells": [
  {
   "cell_type": "markdown",
   "metadata": {},
   "source": [
    "# Практическая работа 1\n",
    "## Задание 1\n"
   ]
  },
  {
   "cell_type": "markdown",
   "metadata": {},
   "source": [
    "В первом задании я создала два файла, которые имеют референсные ссылки друг на друга. Структура файлов выглядит следующим образом:\n",
    "```\n",
    "    myproject/\n",
    "├── about\n",
    "│   └── aboutme.html\n",
    "└── index.html\n",
    "```   "
   ]
  },
  {
   "cell_type": "raw",
   "metadata": {},
   "source": [
    "1. Файл index.html \n",
    "\n",
    "<!DOCTYPE HTML>\n",
    "<html>\n",
    "<head>\n",
    "\t<title>\n",
    "\t\tIndex\n",
    "\t</title>\n",
    "</head>\n",
    "<body>\n",
    "\n",
        "<a href=\"C:/User/Admin/Desktop/WEB/myproject/about/aboutme.html\">\n",
    "\t<H1>\n",
    "\t\tАбсолютная ссылка на файл aboutme.html\n",
    "\t</H1>\n",
    "</a>\n",
    "\n",
    "<a href=\"C:/User/Admin/Desktop/WEB/myproject/about/aboutme.html\">\n",
    "\t<H1>\n",
    "\t\tПрямая ссылка на файл aboutme.html\n",
    "\t</H1>\n",
    "</a>\n",
    "\n",
    "</body>\n",
    "</html>"
   ]
  },
  {
   "cell_type": "raw",
   "metadata": {},
   "source": [
    "2. Файл aboutme.html\n",
    " \n",
    "<!DOCTYPE html>\n",
    "<html>\n",
    "<head>\n",
    "\t<title>\n",
    "\t\tAboutme\n",
    "\t</title>\n",
    "</head>\n",
    "<body>\n",
    "\n",
    "<a href=\"C:/User/Admin/Desktop/WEB/myproject/about/index.html\">\n",
    "\t<H1>\n",
    "\t\tАбсолютная ссылка на файл Index.html\n",
    "\t</H1>\n",
    "</a>\n",
    "\n",
    "<a href=\"C:/User/Admin/Desktop/WEB/myproject/about/index.html\">\n",
    "\t<H1>\n",
    "\t\tПрямая ссылка на файл Index.html \n",
    "\t</H1>\n",
    "</a>\n",
    "\n",
    "</body>\n",
    "</html>\n",
    "\n"
   ]
  },
  {
   "cell_type": "markdown",
   "metadata": {},
   "source": [
    "## Задание 2\n"
   ]
  },
  {
   "cell_type": "markdown",
   "metadata": {},
   "source": [
       "Подключиться по telnet к https://ru.wikipedia.org отправить запрос:\n",
    "\n",
        "GET /wiki/ru.wikipedia.org HTTP/1.1 \n",
        "Host: ru.wikipedia.org \n",
        "User-Agent: Mozilla/5.0 (X11; U; Linux i686; ru; \n:",
        "rv:1.9b5) Gecko/2008050509 Firefox/3.0b5 \n:",
        "Accept: text/html \n:",
        "Connection: close\n",
    "\n"
   ]
  },
  {
   "cell_type": "markdown",
   "metadata": {},
   "source": [
   "HTTP/1.1 301 TLS Redirect \n",
   "Date: Tue, 22 Jan 2019 17:23:14 GMT \n",
   "Server: Varnish \n",
   "X-Varnish: 500478617 \n",
   "X-Cache: cp3032 int \n",
   "X-Cache-Status: int-front \n",
   "Server-Timing: cache;desc="int-front" \n",
   "Set-Cookie: WMF-Last-Access=22-Jan-2019;Path=/;HttpOnly;secure;Expires=Sat, 23 Feb 2019 12:00:00 GMT \n",
   "Set-Cookie: WMF-Last-Access-Global=22-Jan-2019;Path=/;Domain=.wikipedia.org;HttpOnly;secure;Expires=Sat, 23 Feb 2019 12:00:00 GMT \n",
   "X-Client-IP: 82.193.155.245 \n",
   "Location: https://ru.wikipedia.org/wiki/ru.wikipedia.org \n",
   "Content-Length: 0 \n",
   "Connection: close\n",
   "\n",
   "\n"
  ]
 },
  {
   "cell_type": "markdown",
   "metadata": {},
   "source": [
    "## Задание 3"
   ]
  },
  {
   "cell_type": "markdown",
   "metadata": {},
   "source": [
    "Отправить запросы на http://httpbin.org, проанализировать ответ и код состояния. Описать работу HTTP протокола в каждом запросе."
   ]
  },
  {
   "cell_type": "markdown",
   "metadata": {},
   "source": [
    "## /ip"
   ]
  },
  {
   "cell_type": "raw",
   "metadata": {},
   "source": [
    "GET /ip HTTP/1.1\n",
    "Host: httpbin.org\n",
    "Accept: * / *"
   ]
  },
  {
   "cell_type": "markdown",
   "metadata": {},
   "source": [
    "## Ответ:\n",
    "\n",
    "HTTP/1.1 200 OK \n",
    "Connection: keep-alive \n",
    "Server: gunicorn/19.9.0 \n",
    "Date: Tue, 22 Jan 2019 17:27:51 GMT \n",
    "Content-Type: application/json \n",
    "Content-Length: 33 \n",
    "Access-Control-Allow-Origin: * \n",
    "Access-Control-Allow-Credentials: true \n",
    "Via: 1.1 vegur \n",
    "{\ n",
    "   \"origin\": \"188.17.170.219\"\n",
    "                             }\ n"
   ]
  },
  {
   "cell_type": "markdown",
   "metadata": {},
   "source": [
    "## Анализ\n",
    "\n",
    "1. 200 ok - успешный запрос, сервер отправляет ответ в теле сообщения.\n",
    "2. Поддерживается постоянное соединение (keep-alive)\n",
    "3.  Название сервера и его версия (Server: gunicorn/19.9.0)\n",
    "4.  Указывает дату генерации отклика (Date: Tue, 22 Jan 2019 17:27:51 GMT)\n",
    "5. Формат ответа-JSON (пара:ключ-origin и значение-ip-адрес клиента)\n"
   ]
  },
  {
   "cell_type": "markdown",
   "metadata": {},
   "source": [
    "## /get"
   ]
  },
  {
   "cell_type": "raw",
   "metadata": {},
   "source": [
    "GET /get?foo=bar&1=2&2/0&error=True HTTP/1.1\n",
    "Host: httpbin.org\n",
    "Accept: */*"
   ]
  },
  {
   "cell_type": "markdown",
   "metadata": {},
   "source": [
    "## Ответ\n",
    "\n",
    "HTTP/1.1 200 OK \n",
    "Connection: keep-alive \n",
    "Server: gunicorn/19.9.0 \n",
    "Date: Tue, 22 Jan 2019 17:29:22 GMT \n",
    "Content-Type: application/json \n",
    "Content-Length: 289 \n",
    "Access-Control-Allow-Origin: * \n",
    "Access-Control-Allow-Credentials: true \n",
    "Via: 1.1 vegur \n",
    "\ n",
    "{ \n",
    "   \"args\": { \n",
    "                \"1\": \"2\", \n",
    "                              \"2/0\": \"\", \n",
    "                                             \"error\": \"True\", \n",
    "                                                                  \"foo\": \"bar\" \n",
    "                                                                                }, \n",
    "                                                                                     \"headers\": { \n",
    "                                                                                                     \"Accept\": \"*/*\", \n",
    "                                                                                                                          \"Connection\": \"close\",n",
    "                             \"Host\": \"httpbin.org\" \n",
    "                                                    }, \n",
    " \n",
    "}\n"
   ]
  },
  {
   "cell_type": "markdown",
   "metadata": {},
   "source": [
    "## Анализ\n",
    "\n",
    "1. 200 ok - успешный запрос, сервер отправляет ответ в теле сообщения.\n",
    "2. Поддерживается постоянное соединение (keep-alive)\n",
    "3. Название сервера и его версия (Server: gunicorn/19.9.0)\n",
    "4.  Указывает дату генерации отклика (Tue, 22 Jan 2019 17:29:22 GMT)\n",
    "5. Формат JSON (в ответе передались переприсвоенные значения аргументов,заголовки,ip-клиента и адрес страницы)\n"
   ]
  },
  {
   "cell_type": "markdown",
   "metadata": {},
   "source": [
    "## /post"
   ]
  },
  {
   "cell_type": "raw",
   "metadata": {},
   "source": [
    "POST /post HTTP/1.1\n",
    "Host: httpbin.org\n",
    "Accept: */*\n",
    "Content-Length: 29\n",
    "Content-Type: application/x-www-form-urlencoded foo=bar&1=2&2%2F0=&error=True"
   ]
  },
  {
   "cell_type": "markdown",
   "metadata": {},
   "source": [
    "## Ответ\n",
    "\n",
    "HTTP/1.1 200 OK\n",
    "Connection: keep-alive\n",
    "Server: gunicorn/19.9.0\n",
    "Date: Tue, 22 Jan 2019 17:30:59 GMT\n",
    "Content-Type: application/json\n",
    "Content-Length: 434\n",
    "Access-Control-Allow-Origin: *\n",
    "Access-Control-Allow-Credentials: true\n",
    " \n",
    "{\n",
    "   \"args\": {},\n",
    "                 \"data\": \"\",\n",
    "                               \"files\": {},\n",
    "                                              \"form\": {\n",
    "                                                           \"\r\n\r\n\r\n\r\n\r\n\r\n\r\n\r\n\r\n\r\n\r\n\r\n\r\n\r\n\r": \"\"\n",
    "\"\",\n",
    "        }\n",
    "          \"headers\": {\n",
    "                          \"Accept\": "*/",\n",
    "                                                  \"Connection\": \"close\",\n",
    "                                                                          \"Content-Length\": \"29\",\n",
    "                                                                                                      \"Content-Type\": \"application/x-www-form-urlencoded foo=bar&1=2&2%2F0=&error=True\",\n",
    "                                                                     \"Host\": \"httpbin.org\"\n",
    "                                                                                            },\n",
    "                                                                                                 \"json\": null,\n",
    "                                                                                                                 \"origin\": \"82.193.155.245\",\n",
    "                       \"url\": \"http://httpbin.org/post\"\n",
    "                                                       }\n",
   ]
  },
  {
   "cell_type": "markdown",
   "metadata": {},
   "source": [
    "## Анализ\n",
    "\n",
    "1. 200 ok - успешный запрос, сервер отправляет ответ в теле сообщения.\n",
    "2. Поддерживается постоянное соединение (keep-alive)\n",
    "3. Название сервера и его версия (Server: gunicorn/19.9.0)\n",
    "4. Указывает дату генерации отклика (Date: Tue, 22 Jan 2019 17:30:59 GMT)\n",
    "5. Формат ответа-JSON(пары:ключ-значение) \n"
   ]
  },
  {
   "cell_type": "markdown",
   "metadata": {},
   "source": [
    "## /redirect"
   ]
  },
  {
   "cell_type": "raw",
   "metadata": {},
   "source": [
    "GET /redirect/4 HTTP/1.1\n",
    "Host: httpbin.org\n",
    "Accept: */*\n"
   ]
  },
  {
   "cell_type": "markdown",
   "metadata": {},
   "source": [
    "## Ответ"
   ]
  },
  {
   "cell_type": "raw",
   "metadata": {},
   "source": [
    "HTTP/1.1 302 FOUND\n",
    "Connection: keep-alive\n",
    "Server: gunicorn/19.9.0\n",
    "Date: Tue, 22 Jan 2019 17:36:17  GMT\n",
    "Content-Type: text/html; charset=utf-8\n",
    "Content-Length: 247\n",
    "Location: /relative-redirect/3\n",
    "Access-Control-Allow-Origin: *\n",
    "Access-Control-Allow-Credentials: true\n",
    "Via: 1.1 vegur\n",
    "\n",
    "<!DOCTYPE HTML PUBLIC \"-//W3C//DTD HTML 3.2 Final//EN\">\n",
    "                                                       <title>Redirecting...</title>\n",
    "                                                                                    <h1>Redirecting...</h1>\n",
    "                                                                                                           <p>You should be redirected automatically to target URL: <a href=\"/relative-redirect/3\">/relative-redirect/3</a>.  If not click the link."
   ]
  },
  {
   "cell_type": "markdown",
   "metadata": {},
   "source": [
    "## Анализ\n",
    "\n",
    "1. 302 FOUND - запрошенный документ временно доступен по другому URI, указанному в заголовке в поле Location                             (Location: /relative-redirect/3)\n",
    "2. Поддерживается постоянное соединение (keep-alive)\n",
    "3. Название сервера и его версия (Server: gunicorn/19.9.0)\n",
    "5. Указывает дату генерации отклика (Date: Tue, 22 Jan 2019 17:36:17 GMT)\n"
   ]
  },
  {
   "cell_type": "markdown",
   "metadata": {},
   "source": [
    "## /cookies/set"
   ]
  },
  {
   "cell_type": "raw",
   "metadata": {},
   "source": [
    "GET /cookies/set?country=Ru HTTP/1.1\n",
    "Host: httpbin.org\n",
    "Accept: */*\n"
   ]
  },
  {
   "cell_type": "markdown",
   "metadata": {},
   "source": [
    "## Ответ"
   ]
  },
  {
   "cell_type": "raw",
   "metadata": {},
   "source": [
    "HTTP/1.1 302 FOUND\n",
    "Connection: keep-alive\n",
    "Server: gunicorn/19.9.0\n",
    "Date: Tue, 22 Jan 2019 17:32:23 GMT\n",
    "Content-Type: text/html; charset=utf-8\n",
    "Content-Length: 223\n",
    "Location: /cookies\n",
    "Set-Cookie: country=Ru; Path=/\n",
    "Access-Control-Allow-Origin: *\n",
    "Access-Control-Allow-Credentials: true\n",
    "Via: 1.1 vegur\n",
    "\n",
    "<!DOCTYPE HTML PUBLIC \"-//W3C//DTD HTML 3.2 Final//EN\">\n",
    "                                                      <title>Redirecting...</title>\n",
    "                                                                                    <h1>Redirecting...</h1>\n",
    "                                                                                                          <p>You should be redirected automatically to target URL: <a href=\"/cookies\">/cookies</a>.  If not click the link.\n"
   ]
  },
  {
   "cell_type": "markdown",
   "metadata": {},
   "source": [
    "## Анализ \n",
    "\n",
    "1. 302 FOUND - запрошенный документ временно доступен по другому URI, указанному в заголовке в поле Location (Location: /cookies)\n",
    "2. Поддерживается постоянное соединение (keep-alive)\n",
    "3. Название сервера и его версия (Server: gunicorn/19.9.0)\n",
    "4. Указывает дату генерации отклика (Date: Tue, 22 Jan 2019 17:32:23 GMT)\n",
    "5. Задает cookie, которое будет передано клиенту вместе с другими HTTP заголовками (Set-Cookie: country=Ru; Path=/)\n",
    "6. Сервер разрешает кросс-доменный запрос с этого домена (Access-Control-Allow-Origin: *)"
   ]
  },
  {
   "cell_type": "markdown",
   "metadata": {},
   "source": [
    "## /cookies"
   ]
  },
  {
   "cell_type": "raw",
   "metadata": {},
   "source": [
    "GET /cookies HTTP/1.1\n",
    "Host: httpbin.org\n",
    "Accept: */*\n"
   ]
  },
  {
   "cell_type": "markdown",
   "metadata": {},
   "source": [
    "## Ответ\n",
    "HTTP/1.1 200 OK\n",
    "Connection: keep-alive\n",
    "Server: gunicorn/19.9.0\n",
    "Date: Tue, 22 Jan 2019 17:34:33 GMT\n",
    "Content-Type: application/json\n",
    "Content-Length: 20\n",
    "Access-Control-Allow-Origin: *\n",
    "Access-Control-Allow-Credentials: true\n",
    "Via: 1.1 vegur\n",
    "{\n",
    "  \"cookies\": {}\n",
    "}\n",
    "\n"
   ]
  },
  {
   "cell_type": "markdown",
   "metadata": {},
   "source": [
    "## Анализ \n",
    "\n",
    "1. 200 ok - успешный запрос, сервер отправляет ответ в теле сообщения.\n",
    "2. Поддерживается постоянное соединение (keep-alive)\n",
    "3. Название сервера и его версия (Server: gunicorn/19.9.0)\n",
    "4. Указывает дату генерации отклика (Date: Tue, 22 Jan 2019 17:34:33 GMT)\n",
    "5. Записей в cookies нет"
   ]
  },
   {
   "cell_type": "markdown",
   "metadata": {},
   "source": [
    "# Задание 4\n"
   ]
  },
  {
   "cell_type": "markdown",
   "metadata": {},
   "source": [
    "1. Создать HTML форму c action=\"http://httpbin.org/post\" method=\"POST\" и enctype=\"multipart/form-data\"\n",
    "2. Добавить в форму поля firstname, lastname, group, message (textarea), myimg (file).\n",
    "3. Проверить результат отправки данных формы.\n",
    "4. Проанализировать ответ. Описать работу HTTP протокола в данном случае."
   ]
  },
  {
   "cell_type": "raw",
   "metadata": {},
   "source": [
    "<!DOCTYPE html>\n",
    " <html>\n",
    "    <head>\n",
    "        <meta charset=\"utf-8\">\n",
    "        <title>\n",
    "            Форма для заполнения\n",
    "        </title>\n",
    "    </head>\n",
    "    <body>\n",
    "        <form action=\"http://httpbin.org/post\" method=\"POST\" enctype=\"multipart/form-data\"> \n",
    "            <p>\n",
    "            First name:\n",
    "            <input type=\"text\" name=\"first name\" size=\"15\" maxlength=\"40\">\n",
    "            </p>\n",
    "            <p>\n",
    "            Last name:\n",
    "            <input type=\"text\" name=\"lastname\" size=\"15\" maxlength=\"40\">\n",
    "            </p>\n",
    "            <p>\n",
    "            Group:\n",
    "            <input type=\"text\" name=\"group\" size=\"15\" maxlength=\"40\">\n",
    "            </p>\n",
    "            <p>\n",
    "            Message:\n",
    "            <input type=\"textarea\" name=\"message\" size=\"15\" maxlength=\"40\">\n",
    "            </p>\n",
    "            <p>\n",
    "            Myimg:\n",
    "            <input type=\"file\" value=\"myimg\" name=\"myimg\" size=\"15\" maxlength=\"140\">\n",
    "            </p>\n",
    "            <input type=\"submit\" value=\"submit\">\n",
    "        </form>\n",
    "    </body>\n",
    "</html>"
   ]
  },
  {
   "cell_type": "markdown",
   "metadata": {},
   "source": [
    "## Ответ:\n",
    "{\n",
    "  \"args\": {}, \n",
    "  \"data\": \"\", \n",
    "  \"files\": {}, \n",
    "  \"form\": {\n",
    "    \"first name\": \"Varvara\", \n",
    "    \"group\": \"NMT-362701\", \n",
    "    \"lastname\": \"Mironova\", \n",
    "    \"message\": \"\", \n",
    "    \"myimg\": \"\"\n",
    "  }, \n",
    "  \"headers\": {\n",
    "    \"Accept\": \"text/html,application/xhtml+xml,application/xml;q=0.9,*/*;q=0.8\", \n",
    "    \"Accept-Encoding\": \"gzip, deflate\", \n",
    "    \"Accept-Language\": \"ru,en-US;q=0.7,en;q=0.3\", \n",
    "    \"Cache-Control\": \"max-age=0\", \n",
    "    \"Connection\": \"close\", \n",
    "    \"Content-Length\": \"604\", \n",
    "    \"Content-Type\": \"multipart/form-data; boundary=---------------------------7e212033102d2\", \n",
    "    \"Host\": \"httpbin.org\", \n",
    "    \"Upgrade-Insecure-Requests\": \"1\", \n",
    "    \"User-Agent\": \"Mozilla/5.0 (Windows NT 10.0; Win64; x64) AppleWebKit/537.36 (KHTML, like Gecko) Chrome/64.0.3282.140 Safari/537.36 Edge/17.17134\"\n",
    "  }, \n",
    "  \"json\": null, \n",
    "  \"origin\": \"188.234.108.51\", \n",
    "  \"url\": \"http://httpbin.org/post\"\n",
    "}"
   ]
  },
  {
   "cell_type": "markdown",
   "metadata": {},
   "source": [
    "## Анализ\n",
    "Создали форму, отправили данные, и в соответствии с ними получили ответ\n"
   ]
  }
 ],
 "metadata": {
  "kernelspec": {
   "display_name": "Python 3",
   "language": "python",
   "name": "python3"
  },
  "language_info": {
   "codemirror_mode": {
    "name": "ipython",
    "version": 3
   },
   "file_extension": ".py",
   "mimetype": "text/x-python",
   "name": "python",
   "nbconvert_exporter": "python",
   "pygments_lexer": "ipython3",
   "version": "3.6.4"
  }
 },
 "nbformat": 4,
 "nbformat_minor": 2
}
