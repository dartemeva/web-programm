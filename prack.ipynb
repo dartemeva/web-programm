{
 "cells": [
  {
   "cell_type": "markdown",
   "metadata": {},
   "source": [
    "# Практическая работа 1\n",
    "## Задание 1\n"
   ]
  },
  {
   "cell_type": "markdown",
   "metadata": {},
   "source": [
    "В первом задании я создала два файла, которые имеют референсные ссылки друг на друга. Структура файлов выглядит следующим образом:\n",
    "```\n",
    "    myproject/\n",
    "├── about\n",
    "│   └── aboutme.html\n",
    "└── index.html\n",
    "```   "
   ]
  },
  {
   "cell_type": "raw",
   "metadata": {},
   "source": [
    "1. Файл index.html \n",
    "\n",
    "<!DOCTYPE HTML>\n",
    "<html>\n",
    "<head>\n",
    "\t<title>\n",
    "\t\tIndex\n",
    "\t</title>\n",
    "</head>\n",
    "<body>\n",
    "\n",
        "<a href=\"C:/User/Admin/Desktop/WEB/myproject/about/aboutme.html\">\n",
    "\t<H1>\n",
    "\t\tАбсолютная ссылка на файл aboutme.html\n",
    "\t</H1>\n",
    "</a>\n",
    "\n",
    "<a href=\"C:/User/Admin/Desktop/WEB/myproject/about/aboutme.html\">\n",
    "\t<H1>\n",
    "\t\tПрямая ссылка на файл aboutme.html\n",
    "\t</H1>\n",
    "</a>\n",
    "\n",
    "</body>\n",
    "</html>"
   ]
  },
  {
   "cell_type": "raw",
   "metadata": {},
   "source": [
    "2. Файл aboutme.html\n",
    " \n",
    "<!DOCTYPE html>\n",
    "<html>\n",
    "<head>\n",
    "\t<title>\n",
    "\t\tAboutme\n",
    "\t</title>\n",
    "</head>\n",
    "<body>\n",
    "\n",
    "<a href=\"C:/User/Admin/Desktop/WEB/myproject/about/index.html\">\n",
    "\t<H1>\n",
    "\t\tАбсолютная ссылка на файл Index.html\n",
    "\t</H1>\n",
    "</a>\n",
    "\n",
    "<a href=\"C:/User/Admin/Desktop/WEB/myproject/about/index.html\">\n",
    "\t<H1>\n",
    "\t\tПрямая ссылка на файл Index.html \n",
    "\t</H1>\n",
    "</a>\n",
    "\n",
    "</body>\n",
    "</html>\n",
    "\n"
   ]
  },
  {
   "cell_type": "markdown",
   "metadata": {},
   "source": [
    "## Задание 2\n"
   ]
  },
  {
   "cell_type": "markdown",
   "metadata": {},
   "source": [
       "Подключиться по telnet к https://ru.wikipedia.org отправить запрос:\n",
    "\n",
        "GET /wiki/ru.wikipedia.org HTTP/1.1 \n",
        "Host: ru.wikipedia.org \n",
        "User-Agent: Mozilla/5.0 (X11; U; Linux i686; ru; \n:",
        "rv:1.9b5) Gecko/2008050509 Firefox/3.0b5 \n:",
        "Accept: text/html \n:",
        "Connection: close\n",
    "\n"
   ]
  },
  {
   "cell_type": "markdown",
   "metadata": {},
   "source": [
   
